{
 "cells": [
  {
   "cell_type": "code",
   "execution_count": 1,
   "id": "be8a14b3-d601-4cb7-85be-35e0c728ec41",
   "metadata": {
    "tags": []
   },
   "outputs": [],
   "source": [
    "#라이브러리 설치\n",
    "import torch\n",
    "import ultralytics\n",
    "from ultralytics import YOLO\n",
    "import json\n",
    "import os\n",
    "import numpy as np\n",
    "import pandas as pd\n",
    "import yaml\n",
    "import shutil\n",
    "from random import sample\n",
    "import glob\n",
    "import ast"
   ]
  },
  {
   "cell_type": "code",
   "execution_count": 2,
   "id": "ae429816-e225-4784-ad74-8055430ecb5b",
   "metadata": {
    "tags": []
   },
   "outputs": [
    {
     "name": "stdout",
     "output_type": "stream",
     "text": [
      "1.13.1+cu116\n"
     ]
    }
   ],
   "source": [
    "# Torch 버전 확인 1.6이상이여야 함\n",
    "print(torch.__version__)"
   ]
  },
  {
   "cell_type": "code",
   "execution_count": 3,
   "id": "366cb1e9-532d-4c72-860f-c70c80f2f893",
   "metadata": {
    "tags": []
   },
   "outputs": [
    {
     "name": "stdout",
     "output_type": "stream",
     "text": [
      "3.7.15 (default, Nov 24 2022, 18:44:54) [MSC v.1916 64 bit (AMD64)]\n"
     ]
    }
   ],
   "source": [
    "# Python 버전확인 3.7이상\n",
    "import sys\n",
    "print(sys.version)"
   ]
  },
  {
   "cell_type": "code",
   "execution_count": 4,
   "id": "4fb01233-7cc3-4818-afab-0222e6dc3fc6",
   "metadata": {
    "tags": []
   },
   "outputs": [],
   "source": [
    "#객체 탐지할 클래스명 리스트로 작성\n",
    "classes=['halibut'] #두개 클래스로 Yolo test진행"
   ]
  },
  {
   "cell_type": "code",
   "execution_count": 5,
   "id": "ebd41a27-d28f-4285-a5b9-6de335015919",
   "metadata": {
    "tags": []
   },
   "outputs": [],
   "source": [
    "#원본 data 경로\n",
    "path='C:/Users/user/Desktop/flex_data/flex_data'\n",
    "# new data path->Train,Vaild,Test로 분할해서 분석을 진행해야하기 때문에 설정해줌\n",
    "save_path='C:/Users/user/Desktop/flex_data'"
   ]
  },
  {
   "cell_type": "markdown",
   "id": "66660012-8742-4623-9c8f-7325d7774a79",
   "metadata": {
    "tags": []
   },
   "source": [
    "# datasets 폴더 생성\n",
    "\n",
    "## train, valid, test 폴더 각각 생성"
   ]
  },
  {
   "cell_type": "code",
   "execution_count": 6,
   "id": "634cfea4-0b0c-4624-8862-b4bfc65999d8",
   "metadata": {
    "tags": []
   },
   "outputs": [],
   "source": [
    "def createFolder(save_dir):\n",
    "    try:\n",
    "        for tvt in ['train', 'test', 'valid']:\n",
    "            for IL in ['images', 'labels']:\n",
    "                dir = save_dir + '/' + 'TVT_data_yolo' + '/' + tvt + '/' + IL \n",
    "                if not os.path.exists(dir):\n",
    "                    os.makedirs(dir)\n",
    "                else:\n",
    "                    print('Folder has already been created')\n",
    "    except OSError:\n",
    "        print('Error: Creating directory. ' + save_dir)"
   ]
  },
  {
   "cell_type": "code",
   "execution_count": 7,
   "id": "6346484b-8e18-4dfd-856e-72b159530bd2",
   "metadata": {
    "tags": []
   },
   "outputs": [],
   "source": [
    "createFolder(save_dir=save_path)"
   ]
  },
  {
   "cell_type": "markdown",
   "id": "4ba614e8-2240-40c9-9513-42ca1bd3f62e",
   "metadata": {
    "tags": []
   },
   "source": [
    "# TVT 데이터 분할"
   ]
  },
  {
   "cell_type": "code",
   "execution_count": 8,
   "id": "cf3c2782-4c89-46c1-8f74-a2fbccae8658",
   "metadata": {
    "tags": []
   },
   "outputs": [],
   "source": [
    "# # 파일 리스트화\n",
    "img_list=[]\n",
    "lab_list=[]\n",
    "img_path=glob.glob(path+'/'+'images'+'/*')\n",
    "lab_path=glob.glob(path+'/'+'annotations'+'/*')\n",
    "for i in range(len(img_path)):\n",
    "    img_path[i]=img_path[i].replace('\\\\','/')\n",
    "    lab_path[i]=lab_path[i].replace('\\\\','/')\n",
    "img_list.extend(img_path)\n",
    "lab_list.extend(lab_path)"
   ]
  },
  {
   "cell_type": "code",
   "execution_count": 9,
   "id": "d863175f-568a-4859-a93f-723e0d519d5a",
   "metadata": {
    "tags": []
   },
   "outputs": [
    {
     "name": "stdout",
     "output_type": "stream",
     "text": [
      "100\n",
      "100\n",
      "C:/Users/user/Desktop/flex_data/flex_data/images/SA12_T01_FR_000002.jpg\n",
      "C:/Users/user/Desktop/flex_data/flex_data/annotations/SA12_T01_FR_000002.json\n"
     ]
    }
   ],
   "source": [
    "print(len(img_list)) #이미지 파일명\n",
    "print(len(lab_list)) #라벨링 파일명\n",
    "print(img_list[0])\n",
    "print(lab_list[0])"
   ]
  },
  {
   "cell_type": "code",
   "execution_count": 10,
   "id": "95bdaf2a-8d01-4cb5-a07c-442eee547132",
   "metadata": {
    "tags": []
   },
   "outputs": [],
   "source": [
    "def get_tv_idx(tl, p = 0.8, m = 0.5):\n",
    "    total_idx = range(tl)\n",
    "    train_idx = sample(total_idx, int(tl * p)) #전체에서 80% 데이터 추출\n",
    "    temp_idx = set(total_idx) - set(train_idx) #전체 인덱스값에서 트레인 데이터에 해당하는 인덱스 제거\n",
    "    valid_idx = sample(temp_idx, int(len(temp_idx) * m)) #남은 인덱스값에서 50%추출->전체데이터에서 10%추출\n",
    "    test_idx = set(temp_idx) - set(valid_idx) #전체에서 10%데이터 추출\n",
    "\n",
    "    return train_idx, valid_idx, list(test_idx)"
   ]
  },
  {
   "cell_type": "code",
   "execution_count": 11,
   "id": "e73dabdb-59b7-447f-b88f-19260190d139",
   "metadata": {
    "tags": []
   },
   "outputs": [
    {
     "name": "stdout",
     "output_type": "stream",
     "text": [
      "80\n",
      "10\n",
      "10\n"
     ]
    }
   ],
   "source": [
    "train_idx, valid_idx, test_idx = get_tv_idx(len(img_list))\n",
    "print(len(train_idx))\n",
    "print(len(valid_idx))\n",
    "print(len(test_idx))"
   ]
  },
  {
   "cell_type": "code",
   "execution_count": 12,
   "id": "942eddb3-eece-4dcb-b1da-3d2253c00888",
   "metadata": {
    "tags": []
   },
   "outputs": [],
   "source": [
    "# Yolo용 dataset옮겨주는 경로\n",
    "save_path='C:/Users/user/Desktop/flex_data/TVT_data_yolo'"
   ]
  },
  {
   "cell_type": "code",
   "execution_count": 13,
   "id": "a81f6d0f-4c47-4997-9b87-6a19549e42a3",
   "metadata": {
    "tags": []
   },
   "outputs": [],
   "source": [
    "# Train, Valid, Test 경로\n",
    "train_path=path+'/'+'train'\n",
    "valid_path=path+'/'+'valid'\n",
    "test_path=path+'/'+'test'"
   ]
  },
  {
   "cell_type": "markdown",
   "id": "6feff083-8325-4595-aa5f-2378f9eca515",
   "metadata": {},
   "source": [
    "# TVT별 이미지, 라벨링 데이터 경로 복사 및 이동"
   ]
  },
  {
   "cell_type": "code",
   "execution_count": 14,
   "id": "289d8b08-dcbf-4f63-a125-a3c5e0a97f7d",
   "metadata": {
    "tags": []
   },
   "outputs": [],
   "source": [
    "train_img_list = [img_list[idx] for idx in train_idx]\n",
    "train_lab_list= [lab_list[idx] for idx in train_idx]\n",
    "valid_img_list = [img_list[idx] for idx in valid_idx]\n",
    "valid_lab_list = [lab_list[idx] for idx in valid_idx]\n",
    "test_img_list = [img_list[idx] for idx in test_idx]\n",
    "test_lab_list = [lab_list[idx] for idx in test_idx]"
   ]
  },
  {
   "cell_type": "code",
   "execution_count": 15,
   "id": "21919fd1-7786-4f9d-9c42-3565734432b5",
   "metadata": {
    "tags": []
   },
   "outputs": [],
   "source": [
    "# train\n",
    "for i in train_img_list:\n",
    "    shutil.copy(i,save_path+'/'+'train'+'/'+'images') # image copy\n",
    "for j in train_lab_list:\n",
    "    shutil.copy(j,save_path+'/'+'train'+'/'+'labels') #label copy \n",
    "\n",
    "#valid\n",
    "for i in valid_img_list:\n",
    "    shutil.copy(i,save_path+'/'+'valid'+'/'+'images') # image copy\n",
    "for j in valid_lab_list:\n",
    "    shutil.copy(j,save_path+'/'+'valid'+'/'+'labels') #label copy \n",
    "\n",
    "# test\n",
    "for i in test_img_list:\n",
    "    shutil.copy(i,save_path+'/'+'test'+'/'+'images') # image copy\n",
    "for j in test_lab_list:\n",
    "    shutil.copy(j,save_path+'/'+'test'+'/'+'labels') #label copy "
   ]
  },
  {
   "cell_type": "code",
   "execution_count": 16,
   "id": "81172b79-6eb8-4027-a6cd-06888c01e575",
   "metadata": {
    "tags": []
   },
   "outputs": [],
   "source": [
    "# Train Data 이미지 경로 복사"
   ]
  },
  {
   "cell_type": "code",
   "execution_count": 17,
   "id": "37f18a4e-1c15-44a8-8c7d-cde361667f9d",
   "metadata": {
    "tags": []
   },
   "outputs": [],
   "source": [
    "train_path=save_path+'/'+'train'"
   ]
  },
  {
   "cell_type": "code",
   "execution_count": 18,
   "id": "696c5eac-9a3a-4eee-a85d-3d59fc83c7a1",
   "metadata": {
    "tags": []
   },
   "outputs": [],
   "source": [
    "train_img_list=[] #이미지 파일명 리스트\n",
    "\n",
    "train_img=glob.glob(train_path+'/'+'images'+'/*')\n",
    "for j in range(len(train_img)):\n",
    "    train_img[j]=train_img[j].replace('\\\\','/') #경로 \\\\부분 /로 수정\n",
    "    train_img_list.append(train_img[j]) # 각 이미지 경로 저장"
   ]
  },
  {
   "cell_type": "code",
   "execution_count": 19,
   "id": "9a9430f0-5535-4a32-85d5-c7eead794d97",
   "metadata": {
    "tags": []
   },
   "outputs": [],
   "source": [
    "# Vaild Data 이미지 경로 복사\n",
    "valid_path=save_path+'/'+'valid'"
   ]
  },
  {
   "cell_type": "code",
   "execution_count": 20,
   "id": "b5b8871a-6851-49d0-aa35-192ef5db43b9",
   "metadata": {
    "tags": []
   },
   "outputs": [],
   "source": [
    "valid_img_list=[] #이미지 파일명 리스트\n",
    "\n",
    "valid_img=glob.glob(valid_path+'/'+'images'+'/*')\n",
    "\n",
    "for j in range(len(valid_img)):\n",
    "    valid_img[j]=valid_img[j].replace('\\\\','/') #경로 \\\\부분 /로 수정\n",
    "    valid_img_list.append(valid_img[j]) # 각 이미지 경로 저장"
   ]
  },
  {
   "cell_type": "code",
   "execution_count": 21,
   "id": "e30bfaae-cbb9-46db-919b-add145d17ed6",
   "metadata": {
    "tags": []
   },
   "outputs": [],
   "source": [
    "# test Data 이미지 경로 복사\n",
    "test_path=save_path+'/'+'test'"
   ]
  },
  {
   "cell_type": "code",
   "execution_count": 22,
   "id": "a822bf7c-3fa5-4e8a-8e5d-5a184e38d51f",
   "metadata": {
    "tags": []
   },
   "outputs": [],
   "source": [
    "test_img_list=[] #이미지 파일명 리스트\n",
    "\n",
    "test_img=glob.glob(test_path+'/'+'images'+'/*')\n",
    "for j in range(len(test_img)):\n",
    "    test_img[j]=test_img[j].replace('\\\\','/') #경로 \\\\부분 /로 수정\n",
    "    test_img_list.append(test_img[j]) # 각 이미지 경로 저장"
   ]
  },
  {
   "cell_type": "code",
   "execution_count": 23,
   "id": "bcfc948b-662e-4951-9809-58ec92d72f21",
   "metadata": {
    "tags": []
   },
   "outputs": [],
   "source": [
    "# Train image 경로, Valid image 경로 txt 파일 저장\n",
    "with open(train_path+'/'+'train.txt','w') as f:\n",
    "    f.write('\\n'.join(train_img_list)+'\\n')\n",
    "    \n",
    "with open(valid_path+'/'+'valid.txt','w') as f:\n",
    "    f.write('\\n'.join(valid_img_list)+'\\n')\n",
    "\n",
    "with open(test_path+'/'+'test.txt','w') as f:\n",
    "    f.write('\\n'.join(test_img_list)+'\\n')"
   ]
  },
  {
   "cell_type": "markdown",
   "id": "d38040ec-71ef-4477-bbc7-8aabf472ba2c",
   "metadata": {},
   "source": [
    "# yaml 파일 만들기"
   ]
  },
  {
   "cell_type": "code",
   "execution_count": 24,
   "id": "b1cffa79-1f43-4c1a-821e-bf67d3c157a5",
   "metadata": {
    "tags": []
   },
   "outputs": [],
   "source": [
    "# yaml file 만들기 경로는 코드가 구축된 폴더로 구성하기\n",
    "\n",
    "data={\n",
    "    'train':train_path+'/'+'train.txt',\n",
    "    'val':valid_path+'/'+'valid.txt',\n",
    "    'test':test_path+'/'+'test.txt',\n",
    "    'nc':len(classes),\n",
    "    'names':['halibut']\n",
    "}\n",
    "\n",
    "# 최종적으로 생성된 yaml파일을 확인하여 names value값이 리스트형태로 잘 작성되었는지만 확인 해야함"
   ]
  },
  {
   "cell_type": "markdown",
   "id": "91eb0f4d-452a-4200-97ef-da1ed905bd80",
   "metadata": {},
   "source": [
    "# yaml 파일 저장->YOLO 모델 수행 시 필수 사항임"
   ]
  },
  {
   "cell_type": "code",
   "execution_count": 25,
   "id": "f5b15567-25fe-4205-94a4-bb4f69ddcd53",
   "metadata": {
    "tags": []
   },
   "outputs": [],
   "source": [
    "with open('C:/Users/user/Desktop/project/yolov8/data.yaml', 'w') as f:\n",
    "    yaml.dump(data, f)"
   ]
  },
  {
   "cell_type": "markdown",
   "id": "d97bd71f-28b5-4dab-b0c0-c371e72c1168",
   "metadata": {},
   "source": [
    "# 인공지능 학습용 데이터 라벨링 파일->Yolov8 dataformat으로 변경"
   ]
  },
  {
   "cell_type": "markdown",
   "id": "36b1b923-9550-4d98-875a-d79b01865dc7",
   "metadata": {
    "tags": []
   },
   "source": [
    "## Train 라벨링 데이터 파일명 경로 복사"
   ]
  },
  {
   "cell_type": "code",
   "execution_count": 28,
   "id": "e348567a-85f4-4d40-aedd-9447a1cdf8b0",
   "metadata": {
    "tags": []
   },
   "outputs": [
    {
     "name": "stdout",
     "output_type": "stream",
     "text": [
      "80\n"
     ]
    }
   ],
   "source": [
    "train_lab_list=[] #라벨링 파일명 리스트\n",
    "\n",
    "\n",
    "train_lab=glob.glob(train_path+'/'+'labels'+'/*')\n",
    "for j in range(len(train_lab)):\n",
    "    train_lab[j]=train_lab[j].replace('\\\\','/') #경로 \\\\부분 /로 수정\n",
    "    train_lab_list.append(train_lab[j]) # 각 이미지 경로 저장\n",
    "\n",
    "print(len(train_lab_list))"
   ]
  },
  {
   "cell_type": "markdown",
   "id": "b2223cf1-8937-4725-8fb1-6bcd7bffa2e0",
   "metadata": {},
   "source": [
    "# Valid 라벨링 데이터 이미지 파일명 경로 복사"
   ]
  },
  {
   "cell_type": "code",
   "execution_count": 29,
   "id": "24489e18-a95e-432d-bcc4-3ecb59918487",
   "metadata": {
    "tags": []
   },
   "outputs": [
    {
     "name": "stdout",
     "output_type": "stream",
     "text": [
      "10\n"
     ]
    }
   ],
   "source": [
    "valid_lab_list=[] #라벨링 파일명 리스트\n",
    "\n",
    "\n",
    "valid_lab=glob.glob(valid_path+'/'+'labels'+'/*')\n",
    "for j in range(len(valid_lab)):\n",
    "    valid_lab[j]=valid_lab[j].replace('\\\\','/') #경로 \\\\부분 /로 수정\n",
    "    valid_lab_list.append(valid_lab[j]) # 각 이미지 경로 저장\n",
    "\n",
    "print(len(valid_lab_list))"
   ]
  },
  {
   "cell_type": "markdown",
   "id": "19bc08ed-af30-483a-9fdb-510982056567",
   "metadata": {},
   "source": [
    "# Test 라벨링 데이터 이미지 파일명 경로 복사"
   ]
  },
  {
   "cell_type": "code",
   "execution_count": 30,
   "id": "035460ca-e995-44a6-b35c-6cae38d72747",
   "metadata": {
    "tags": []
   },
   "outputs": [
    {
     "name": "stdout",
     "output_type": "stream",
     "text": [
      "10\n"
     ]
    }
   ],
   "source": [
    "test_lab_list=[] #라벨링 파일명 리스트\n",
    "\n",
    "\n",
    "test_lab=glob.glob(test_path+'/'+'labels'+'/*')\n",
    "for j in range(len(test_lab)):\n",
    "    test_lab[j]=test_lab[j].replace('\\\\','/') #경로 \\\\부분 /로 수정\n",
    "    test_lab_list.append(test_lab[j]) # 각 이미지 경로 저장\n",
    "\n",
    "print(len(test_lab_list))"
   ]
  },
  {
   "cell_type": "markdown",
   "id": "05846d55-8fb5-471f-9177-74bfebc29f25",
   "metadata": {},
   "source": [
    "# 라벨링 데이터 파일 전처리 Train"
   ]
  },
  {
   "cell_type": "code",
   "execution_count": 31,
   "id": "17754ce6-6605-468d-9a99-47e46539e368",
   "metadata": {},
   "outputs": [],
   "source": [
    "# sample용 train data labeling file 하나 open"
   ]
  },
  {
   "cell_type": "code",
   "execution_count": 32,
   "id": "0f9aeb52-7c45-4bea-bbf0-b66efefce8ba",
   "metadata": {
    "tags": []
   },
   "outputs": [],
   "source": [
    "def convert_label(label_list): #저장할 라벨링 파일 리스트, 저장 경로, Train,vaild,Test중 선택하여 mode작성\n",
    "    for i in label_list:\n",
    "        # 각 이미지 당 하나의 파일을 생성해야하기 때문에 labels, bboxs 매 사진마다 초기화 필요\n",
    "        labels = [] #class값 저장\n",
    "        bboxs = [] #x_center, y_center, width, height순으로\n",
    "        with open(i,\"r\",encoding='UTF-8') as f:\n",
    "            jsonfile=json.load(f) #json file불러오기\n",
    "            \n",
    "        box_objects = jsonfile['Annotations'] #어노테이션 정보 저장\n",
    "        image_size = np.asarray(ast.literal_eval(jsonfile['Info']['resolution'])) #이미지 해상도\n",
    "        w, h = [int(i) for i in image_size] #weight, height\n",
    "        \n",
    "        for obj in box_objects:\n",
    "            if obj['annotation_type']=='rect': #Bounding Box 버전\n",
    "                labels.append(classes.index(obj['class_code'])) #라벨에 클래스 넘버 추가하기\n",
    "                bboxs.append(ast.literal_eval(obj['rect.points']))\n",
    "            elif obj['annotation_type']=='polygon':\n",
    "                labels.append(classes.index(obj['class_code']))\n",
    "                poly_list=ast.literal_eval(obj['polygon.points'])\n",
    "                xlist=poly_list[0]\n",
    "                ylist=poly_list[1]\n",
    "                xmin,xmax,ymin,ymax=min(xlist),max(xlist),min(ylist),max(ylist)\n",
    "                bboxs.append([xmin,ymin,xmax,ymax]) #bbox는 x최소, y최소, x최대, y최대로 이루어져있음\n",
    "            else:\n",
    "                print('annotation type must be \"rect\" or \"polygon\"')\n",
    "        #좌표값 수정\n",
    "        bboxs = np.asarray(bboxs, dtype=np.float64)\n",
    "        try:\n",
    "            bboxs[:, [0,2]] /= w #넓이 \n",
    "            bboxs[:, [1,3]] /= h #높이\n",
    "        except: \n",
    "            pass\n",
    "        \n",
    "        labels = np.array(labels).reshape(len(labels), 1) #라벨값 이어붙이기\n",
    "        box_cxy = (bboxs[:, 2:] + bboxs[:, :2])/2.0 #xcenter,ycenter\n",
    "        box_wh = bboxs[:, 2:] - bboxs[:, :2] #width, height\n",
    "        new_box = np.concatenate((box_cxy, box_wh), axis=1) #합치기\n",
    "        annot_out = np.concatenate((labels, new_box), axis=1) #라벨값과 합치기\n",
    "        \n",
    "        with open(i.split('.')[0] + '.txt', 'w') as f:\n",
    "            for line in annot_out:\n",
    "                line = np.asarray(line, dtype=str)\n",
    "                line[0] = line[0].split('.')[0]\n",
    "                f.write(' '.join(line) + '\\n')    "
   ]
  },
  {
   "cell_type": "code",
   "execution_count": 33,
   "id": "510a0223-d8be-4e5c-b704-3b3b46aaf630",
   "metadata": {
    "tags": []
   },
   "outputs": [],
   "source": [
    "convert_label(train_lab_list) #train data yolo 라벨링 전용 데이터 생성"
   ]
  },
  {
   "cell_type": "code",
   "execution_count": 34,
   "id": "50123fdb-ed3c-48e7-91f0-c41f163b835b",
   "metadata": {
    "tags": []
   },
   "outputs": [],
   "source": [
    "convert_label(valid_lab_list)"
   ]
  },
  {
   "cell_type": "code",
   "execution_count": 35,
   "id": "4fa85582-48c1-4826-b603-0fb742ced9b7",
   "metadata": {
    "tags": []
   },
   "outputs": [],
   "source": [
    "convert_label(test_lab_list)"
   ]
  },
  {
   "cell_type": "code",
   "execution_count": 36,
   "id": "605be151-a701-4c4e-8e28-dc2c8113dce1",
   "metadata": {
    "tags": []
   },
   "outputs": [
    {
     "name": "stderr",
     "output_type": "stream",
     "text": [
      "New https://pypi.org/project/ultralytics/8.0.166 available  Update with 'pip install -U ultralytics'\n",
      "Ultralytics YOLOv8.0.112  Python-3.7.15 torch-1.13.1+cu116 CUDA:0 (NVIDIA GeForce RTX 3060 Laptop GPU, 6144MiB)\n",
      "WARNING  Upgrade to torch>=2.0.0 for deterministic training.\n",
      "\u001b[34m\u001b[1myolo\\engine\\trainer: \u001b[0mtask=detect, mode=train, model=yolov8n.pt, data=C:/Users/user/Desktop/project/yolov8/data.yaml, epochs=1, patience=100, batch=2, imgsz=640, save=True, save_period=-1, cache=False, device=None, workers=8, project=None, name=None, exist_ok=False, pretrained=False, optimizer=SGD, verbose=True, seed=0, deterministic=True, single_cls=False, rect=False, cos_lr=False, close_mosaic=0, resume=False, amp=True, fraction=1.0, profile=False, overlap_mask=True, mask_ratio=4, dropout=0.0, val=True, split=val, save_json=False, save_hybrid=False, conf=0.001, iou=0.7, max_det=300, half=False, dnn=False, plots=True, source=None, show=False, save_txt=False, save_conf=False, save_crop=False, show_labels=True, show_conf=True, vid_stride=1, line_width=None, visualize=False, augment=False, agnostic_nms=False, classes=None, retina_masks=False, boxes=True, format=torchscript, keras=False, optimize=False, int8=False, dynamic=False, simplify=False, opset=None, workspace=4, nms=False, lr0=0.0037, lrf=0.01, momentum=0.937, weight_decay=0.0005, warmup_epochs=3.0, warmup_momentum=0.8, warmup_bias_lr=0.1, box=7.5, cls=0.5, dfl=1.5, pose=12.0, kobj=1.0, label_smoothing=0.0, nbs=64, hsv_h=0.015, hsv_s=0.7, hsv_v=0.4, degrees=0.0, translate=0.1, scale=0.5, shear=0.0, perspective=0.0, flipud=0.0, fliplr=0.5, mosaic=1.0, mixup=0.0, copy_paste=0.0, cfg=None, v5loader=False, tracker=botsort.yaml, save_dir=runs\\detect\\train3\n",
      "Overriding model.yaml nc=80 with nc=1\n",
      "\n",
      "                   from  n    params  module                                       arguments                     \n",
      "  0                  -1  1       464  ultralytics.nn.modules.conv.Conv             [3, 16, 3, 2]                 \n",
      "  1                  -1  1      4672  ultralytics.nn.modules.conv.Conv             [16, 32, 3, 2]                \n",
      "  2                  -1  1      7360  ultralytics.nn.modules.block.C2f             [32, 32, 1, True]             \n",
      "  3                  -1  1     18560  ultralytics.nn.modules.conv.Conv             [32, 64, 3, 2]                \n",
      "  4                  -1  2     49664  ultralytics.nn.modules.block.C2f             [64, 64, 2, True]             \n",
      "  5                  -1  1     73984  ultralytics.nn.modules.conv.Conv             [64, 128, 3, 2]               \n",
      "  6                  -1  2    197632  ultralytics.nn.modules.block.C2f             [128, 128, 2, True]           \n",
      "  7                  -1  1    295424  ultralytics.nn.modules.conv.Conv             [128, 256, 3, 2]              \n",
      "  8                  -1  1    460288  ultralytics.nn.modules.block.C2f             [256, 256, 1, True]           \n",
      "  9                  -1  1    164608  ultralytics.nn.modules.block.SPPF            [256, 256, 5]                 \n",
      " 10                  -1  1         0  torch.nn.modules.upsampling.Upsample         [None, 2, 'nearest']          \n",
      " 11             [-1, 6]  1         0  ultralytics.nn.modules.conv.Concat           [1]                           \n",
      " 12                  -1  1    148224  ultralytics.nn.modules.block.C2f             [384, 128, 1]                 \n",
      " 13                  -1  1         0  torch.nn.modules.upsampling.Upsample         [None, 2, 'nearest']          \n",
      " 14             [-1, 4]  1         0  ultralytics.nn.modules.conv.Concat           [1]                           \n",
      " 15                  -1  1     37248  ultralytics.nn.modules.block.C2f             [192, 64, 1]                  \n",
      " 16                  -1  1     36992  ultralytics.nn.modules.conv.Conv             [64, 64, 3, 2]                \n",
      " 17            [-1, 12]  1         0  ultralytics.nn.modules.conv.Concat           [1]                           \n",
      " 18                  -1  1    123648  ultralytics.nn.modules.block.C2f             [192, 128, 1]                 \n",
      " 19                  -1  1    147712  ultralytics.nn.modules.conv.Conv             [128, 128, 3, 2]              \n",
      " 20             [-1, 9]  1         0  ultralytics.nn.modules.conv.Concat           [1]                           \n",
      " 21                  -1  1    493056  ultralytics.nn.modules.block.C2f             [384, 256, 1]                 \n",
      " 22        [15, 18, 21]  1    751507  ultralytics.nn.modules.head.Detect           [1, [64, 128, 256]]           \n",
      "Model summary: 225 layers, 3011043 parameters, 3011027 gradients\n",
      "\n",
      "Transferred 319/355 items from pretrained weights\n",
      "\u001b[34m\u001b[1mTensorBoard: \u001b[0mStart with 'tensorboard --logdir runs\\detect\\train3', view at http://localhost:6006/\n",
      "\u001b[34m\u001b[1mAMP: \u001b[0mrunning Automatic Mixed Precision (AMP) checks with YOLOv8n...\n",
      "\u001b[34m\u001b[1mAMP: \u001b[0mchecks passed \n",
      "\u001b[34m\u001b[1moptimizer:\u001b[0m SGD(lr=0.0037) with parameter groups 57 weight(decay=0.0), 64 weight(decay=0.0005), 63 bias\n",
      "\u001b[34m\u001b[1mtrain: \u001b[0mScanning C:\\Users\\user\\Desktop\\flex_data\\TVT_data_yolo\\train\\labels... 80 images, 0 backgrounds, 0 corrupt: 100%\u001b[0m\n",
      "\u001b[34m\u001b[1mtrain: \u001b[0mNew cache created: C:\\Users\\user\\Desktop\\flex_data\\TVT_data_yolo\\train\\labels.cache\n",
      "\u001b[34m\u001b[1malbumentations: \u001b[0mBlur(p=0.01, blur_limit=(3, 7)), MedianBlur(p=0.01, blur_limit=(3, 7)), ToGray(p=0.01), CLAHE(p=0.01, clip_limit=(1, 4.0), tile_grid_size=(8, 8))\n",
      "\u001b[34m\u001b[1mval: \u001b[0mScanning C:\\Users\\user\\Desktop\\flex_data\\TVT_data_yolo\\valid\\labels... 10 images, 0 backgrounds, 0 corrupt: 100%|█\u001b[0m\n",
      "\u001b[34m\u001b[1mval: \u001b[0mNew cache created: C:\\Users\\user\\Desktop\\flex_data\\TVT_data_yolo\\valid\\labels.cache\n",
      "Plotting labels to runs\\detect\\train3\\labels.jpg... \n",
      "Image sizes 640 train, 640 val\n",
      "Using 2 dataloader workers\n",
      "Logging results to \u001b[1mruns\\detect\\train3\u001b[0m\n",
      "Starting training for 1 epochs...\n",
      "\n",
      "      Epoch    GPU_mem   box_loss   cls_loss   dfl_loss  Instances       Size\n",
      "        1/1     0.327G      1.851      3.672      1.381          7        640: 100%|██████████| 40/40 [00:05<00:00,  7.\n",
      "                 Class     Images  Instances      Box(P          R      mAP50  mAP50-95): 100%|██████████| 3/3 [00:00<0\n",
      "                   all         10         30    0.00967      0.967      0.021    0.00597\n",
      "\n",
      "1 epochs completed in 0.002 hours.\n",
      "Optimizer stripped from runs\\detect\\train3\\weights\\last.pt, 6.2MB\n",
      "Optimizer stripped from runs\\detect\\train3\\weights\\best.pt, 6.2MB\n",
      "\n",
      "Validating runs\\detect\\train3\\weights\\best.pt...\n",
      "Ultralytics YOLOv8.0.112  Python-3.7.15 torch-1.13.1+cu116 CUDA:0 (NVIDIA GeForce RTX 3060 Laptop GPU, 6144MiB)\n",
      "Model summary (fused): 168 layers, 3005843 parameters, 0 gradients\n",
      "                 Class     Images  Instances      Box(P          R      mAP50  mAP50-95): 100%|██████████| 3/3 [00:00<0\n",
      "                   all         10         30    0.00967      0.967     0.0208    0.00591\n",
      "Speed: 1.4ms preprocess, 11.1ms inference, 0.0ms loss, 2.2ms postprocess per image\n",
      "Results saved to \u001b[1mruns\\detect\\train3\u001b[0m\n",
      "Ultralytics YOLOv8.0.112  Python-3.7.15 torch-1.13.1+cu116 CUDA:0 (NVIDIA GeForce RTX 3060 Laptop GPU, 6144MiB)\n",
      "Model summary (fused): 168 layers, 3005843 parameters, 0 gradients\n",
      "\u001b[34m\u001b[1mval: \u001b[0mScanning C:\\Users\\user\\Desktop\\flex_data\\TVT_data_yolo\\valid\\labels.cache... 10 images, 0 backgrounds, 0 corrupt: \u001b[0m\n",
      "                 Class     Images  Instances      Box(P          R      mAP50  mAP50-95): 100%|██████████| 5/5 [00:03<0\n",
      "                   all         10         30    0.00967      0.967     0.0204    0.00597\n",
      "Speed: 2.9ms preprocess, 26.9ms inference, 0.0ms loss, 3.3ms postprocess per image\n",
      "Results saved to \u001b[1mruns\\detect\\val\u001b[0m\n"
     ]
    },
    {
     "data": {
      "text/plain": [
       "ultralytics.yolo.utils.metrics.DetMetrics object with attributes:\n",
       "\n",
       "ap_class_index: array([0])\n",
       "box: ultralytics.yolo.utils.metrics.Metric object\n",
       "confusion_matrix: <ultralytics.yolo.utils.metrics.ConfusionMatrix object at 0x000001DA05CE4688>\n",
       "fitness: 0.0074177290831388965\n",
       "keys: ['metrics/precision(B)', 'metrics/recall(B)', 'metrics/mAP50(B)', 'metrics/mAP50-95(B)']\n",
       "maps: array([  0.0059725])\n",
       "names: {0: 'halibut'}\n",
       "plot: True\n",
       "results_dict: {'metrics/precision(B)': 0.009666666666666667, 'metrics/recall(B)': 0.9666666666666667, 'metrics/mAP50(B)': 0.020424865033674147, 'metrics/mAP50-95(B)': 0.005972491755301647, 'fitness': 0.0074177290831388965}\n",
       "save_dir: WindowsPath('runs/detect/val')\n",
       "speed: {'preprocess': 2.900242805480957, 'inference': 26.89945697784424, 'loss': 0.0, 'postprocess': 3.3000707626342773}"
      ]
     },
     "execution_count": 36,
     "metadata": {},
     "output_type": "execute_result"
    }
   ],
   "source": [
    "model = YOLO(model='yolov8n.pt')\n",
    "device = 'cuda'\n",
    "model.to(device)\n",
    "model.train(data='C:/Users/user/Desktop/project/yolov8/data.yaml', epochs=1, patience=100, batch=2, imgsz=640, pretrained=False, optimizer='SGD', conf=0.001, lr0=0.0037)\n",
    "model.val()"
   ]
  },
  {
   "cell_type": "code",
   "execution_count": null,
   "id": "408b4528-0cfd-4b6d-a74e-adcd6de26889",
   "metadata": {},
   "outputs": [],
   "source": []
  }
 ],
 "metadata": {
  "kernelspec": {
   "display_name": "Python 3 (ipykernel)",
   "language": "python",
   "name": "python3"
  },
  "language_info": {
   "codemirror_mode": {
    "name": "ipython",
    "version": 3
   },
   "file_extension": ".py",
   "mimetype": "text/x-python",
   "name": "python",
   "nbconvert_exporter": "python",
   "pygments_lexer": "ipython3",
   "version": "3.7.15"
  }
 },
 "nbformat": 4,
 "nbformat_minor": 5
}
